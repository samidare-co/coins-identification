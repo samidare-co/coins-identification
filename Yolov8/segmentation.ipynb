{
  "cells": [
    {
      "cell_type": "markdown",
      "metadata": {
        "id": "LK148c5RRgCs"
      },
      "source": [
        "# YOLOv8 Segmentation\n"
      ]
    },
    {
      "cell_type": "markdown",
      "metadata": {
        "id": "YiBK9s1dRmfc"
      },
      "source": [
        "## Mount Google Drive and Install YOLOv8"
      ]
    },
    {
      "cell_type": "code",
      "execution_count": null,
      "metadata": {
        "id": "JsnRNuymQ7aY"
      },
      "outputs": [],
      "source": [
        "# Mount Google Drive\n",
        "from google.colab import drive\n",
        "drive.mount('/content/gdrive')"
      ]
    },
    {
      "cell_type": "code",
      "execution_count": null,
      "metadata": {
        "id": "FSCcci01RpL8"
      },
      "outputs": [],
      "source": [
        "# Access Google Drive Folder\n",
        "import os\n",
        "os.chdir(\"gdrive/MyDrive\")"
      ]
    },
    {
      "cell_type": "code",
      "execution_count": null,
      "metadata": {
        "id": "surTj6FZRrof"
      },
      "outputs": [],
      "source": [
        "# Create YOLOv8 Segmentation root folder\n",
        "!mkdir yolov8-segmentation"
      ]
    },
    {
      "cell_type": "code",
      "execution_count": null,
      "metadata": {
        "id": "faORbx8-RwHP"
      },
      "outputs": [],
      "source": [
        "# Go to YOLOv8 Segmentation root folder\n",
        "%cd yolov8-segmentation"
      ]
    },
    {
      "cell_type": "code",
      "execution_count": null,
      "metadata": {
        "id": "zuAAXr9ERxZr"
      },
      "outputs": [],
      "source": [
        "# Install YOLOv8\n",
        "%pip install ultralytics\n",
        "\n",
        "import ultralytics\n",
        "ultralytics.checks()"
      ]
    },
    {
      "cell_type": "markdown",
      "metadata": {
        "id": "1lgrepnrR-9U"
      },
      "source": [
        "## Segmentation"
      ]
    },
    {
      "cell_type": "code",
      "execution_count": null,
      "metadata": {
        "id": "_oRKIMsQSCkQ"
      },
      "outputs": [],
      "source": [
        "# Download YOLOv8 Segmentation models\n",
        "!wget https://github.com/ultralytics/assets/releases/download/v0.0.0/yolov8l-seg.pt"
      ]
    },
    {
      "cell_type": "code",
      "execution_count": null,
      "metadata": {
        "id": "C-qJ4e6CSgYu"
      },
      "outputs": [],
      "source": [
        "# Create inference folder\n",
        "!mkdir inference"
      ]
    },
    {
      "cell_type": "code",
      "execution_count": null,
      "metadata": {
        "id": "hHwvnARQSjIr"
      },
      "outputs": [],
      "source": [
        "# Go to inference folder\n",
        "%cd inference"
      ]
    },
    {
      "cell_type": "code",
      "execution_count": null,
      "metadata": {
        "id": "8KwHWnzaSjRq"
      },
      "outputs": [],
      "source": [
        "# Download image zidane.jpg\n",
        "!wget https://raw.githubusercontent.com/ultralytics/ultralytics/main/ultralytics/assets/zidane.jpg"
      ]
    },
    {
      "cell_type": "code",
      "execution_count": null,
      "metadata": {
        "id": "CgNJJnWLT3_3"
      },
      "outputs": [],
      "source": [
        "# Download video basketball.mp4\n",
        "!gdown https://drive.google.com/uc?id=13-ih2m1EUCWLBmVtTBuJxalCTNKkfRlm"
      ]
    },
    {
      "cell_type": "code",
      "execution_count": null,
      "metadata": {
        "id": "ZSqQ_pYmSyvZ"
      },
      "outputs": [],
      "source": [
        "# Go to root folder\n",
        "%cd ../"
      ]
    },
    {
      "cell_type": "code",
      "execution_count": null,
      "metadata": {
        "id": "_-D89DTqS0Sl"
      },
      "outputs": [],
      "source": [
        "# Function to show Image\n",
        "import matplotlib.pyplot as plt\n",
        "import matplotlib.image as mpimg\n",
        "\n",
        "def showImage(path):\n",
        "  img = mpimg.imread(path)\n",
        "  plt.figure(figsize=(10,10))\n",
        "  plt.axis(\"off\")\n",
        "  plt.imshow(img)\n",
        "  plt.show()"
      ]
    },
    {
      "cell_type": "code",
      "execution_count": null,
      "metadata": {
        "id": "Pp8Jbk2QS3Pb"
      },
      "outputs": [],
      "source": [
        "# Segmentation on the image\n",
        "!yolo segment predict model=yolov8l-seg.pt source=\"inference/zidane.jpg\" save=True"
      ]
    },
    {
      "cell_type": "code",
      "execution_count": null,
      "metadata": {
        "id": "7vQDcAQJS7__"
      },
      "outputs": [],
      "source": [
        "# Show Segmentation Result\n",
        "showImage(\"runs/segment/predict/zidane.jpg\")"
      ]
    },
    {
      "cell_type": "code",
      "execution_count": null,
      "metadata": {
        "id": "TfyerI45TART"
      },
      "outputs": [],
      "source": [
        "# Segmentation on the video\n",
        "!yolo segment predict model=yolov8l-seg.pt source=\"inference/basketball.mp4\" save=True"
      ]
    },
    {
      "cell_type": "markdown",
      "metadata": {
        "id": "s-0jvsW6TFQn"
      },
      "source": [
        "# Training"
      ]
    },
    {
      "cell_type": "markdown",
      "metadata": {
        "id": "-nNtRlQEWG6f"
      },
      "source": [
        "## Mount Google Drive and Install YOLOv8"
      ]
    },
    {
      "cell_type": "code",
      "execution_count": null,
      "metadata": {
        "colab": {
          "base_uri": "https://localhost:8080/"
        },
        "id": "0oXXKiMuTWd4",
        "outputId": "bce1bab7-0489-45fa-a293-8a32ad4a7f8c"
      },
      "outputs": [
        {
          "output_type": "stream",
          "name": "stdout",
          "text": [
            "Mounted at /content/gdrive\n"
          ]
        }
      ],
      "source": [
        "# Mount Google Drive\n",
        "from google.colab import drive\n",
        "drive.mount('/content/gdrive')"
      ]
    },
    {
      "cell_type": "code",
      "execution_count": null,
      "metadata": {
        "id": "_6O8S9_cTUib"
      },
      "outputs": [],
      "source": [
        "# Access YOLOv8 Segmentation root folder\n",
        "import os\n",
        "os.chdir(\"gdrive/MyDrive/yolov8\")"
      ]
    },
    {
      "cell_type": "code",
      "execution_count": null,
      "metadata": {
        "id": "kpNtBc-LTUlL",
        "colab": {
          "base_uri": "https://localhost:8080/"
        },
        "outputId": "8233d66f-9ec0-4551-e11e-a7d8219755f5"
      },
      "outputs": [
        {
          "output_type": "stream",
          "name": "stdout",
          "text": [
            "Ultralytics YOLOv8.2.7 🚀 Python-3.10.12 torch-2.2.1+cu121 CPU (Intel Xeon 2.20GHz)\n",
            "Setup complete ✅ (2 CPUs, 12.7 GB RAM, 28.8/107.7 GB disk)\n"
          ]
        }
      ],
      "source": [
        "# Install YOLOv8\n",
        "%pip install ultralytics\n",
        "\n",
        "import ultralytics\n",
        "ultralytics.checks()"
      ]
    },
    {
      "cell_type": "markdown",
      "metadata": {
        "id": "7uHnOtdJWPkl"
      },
      "source": [
        "## Dataset"
      ]
    },
    {
      "cell_type": "code",
      "source": [
        "%cd /content/gdrive/MyDrive/yolov8-segmentation/"
      ],
      "metadata": {
        "colab": {
          "base_uri": "https://localhost:8080/"
        },
        "id": "8DklqkfqWrto",
        "outputId": "f16e91c4-6ef7-42fc-d1a4-0840e26b2ce8"
      },
      "execution_count": null,
      "outputs": [
        {
          "output_type": "stream",
          "name": "stdout",
          "text": [
            "/content\n"
          ]
        }
      ]
    },
    {
      "cell_type": "code",
      "execution_count": null,
      "metadata": {
        "id": "sbO8gSfzTUnb"
      },
      "outputs": [],
      "source": [
        "# Check Dataset\n",
        "!ls data/"
      ]
    },
    {
      "cell_type": "code",
      "execution_count": null,
      "metadata": {
        "id": "S5Ls2TKkTUp9"
      },
      "outputs": [],
      "source": [
        "# Unzip Dataset\n",
        "!unzip data/penny-dataset.zip -d ./data"
      ]
    },
    {
      "cell_type": "code",
      "execution_count": null,
      "metadata": {
        "id": "8AqTDqZ3TUsd"
      },
      "outputs": [],
      "source": [
        "# Check data folder\n",
        "%cd data\n",
        "\n",
        "!ls"
      ]
    },
    {
      "cell_type": "markdown",
      "metadata": {
        "id": "qRIP3A1RWWpB"
      },
      "source": [
        "## Data File"
      ]
    },
    {
      "cell_type": "code",
      "execution_count": null,
      "metadata": {
        "id": "6kyLR_A1TUuv",
        "colab": {
          "base_uri": "https://localhost:8080/"
        },
        "outputId": "f45db485-a161-4e16-f71e-5a0612d92253"
      },
      "outputs": [
        {
          "output_type": "stream",
          "name": "stdout",
          "text": [
            "Downloading...\n",
            "From: https://drive.google.com/uc?id=1joW_me3Gtzxm4d48edbMsOpooV8snDdn\n",
            "To: /content/gdrive/MyDrive/yolov8-segmentation/data/data.yaml\n",
            "\r  0% 0.00/166 [00:00<?, ?B/s]\r100% 166/166 [00:00<00:00, 884kB/s]\n"
          ]
        }
      ],
      "source": [
        "# Download sample data file\n",
        "!gdown https://drive.google.com/uc?id=1joW_me3Gtzxm4d48edbMsOpooV8snDdn"
      ]
    },
    {
      "cell_type": "code",
      "execution_count": null,
      "metadata": {
        "id": "Lc3ruF_yTTSu"
      },
      "outputs": [],
      "source": [
        "# Rename sample data file\n",
        "import os\n",
        "os.rename(\"data.yaml\", \"penny.yaml\")\n",
        "\n",
        "!ls"
      ]
    },
    {
      "cell_type": "code",
      "execution_count": null,
      "metadata": {
        "id": "0q89q8ZmTTZk"
      },
      "outputs": [],
      "source": [
        "# Get Absolute Path\n",
        "import os\n",
        "\n",
        "print(os.getcwd())"
      ]
    },
    {
      "cell_type": "code",
      "execution_count": null,
      "metadata": {
        "id": "KL_DSUMLTTcm"
      },
      "outputs": [],
      "source": [
        "# Back to root folder\n",
        "%cd ../"
      ]
    },
    {
      "cell_type": "markdown",
      "metadata": {
        "id": "M6TCYwDRWf7D"
      },
      "source": [
        "## Training Process"
      ]
    },
    {
      "cell_type": "code",
      "execution_count": null,
      "metadata": {
        "id": "vOWf4BgYTTfF"
      },
      "outputs": [],
      "source": [
        "# Train\n",
        "!yolo segment train model=yolov8l-seg.pt data=data/penny.yaml workers=8 batch=8 device=0 epochs=300 patience=50 name=penny"
      ]
    },
    {
      "cell_type": "code",
      "execution_count": null,
      "metadata": {
        "id": "FnYGNbQmTThg"
      },
      "outputs": [],
      "source": [
        "# See the accuracy\n",
        "%load_ext tensorboard\n",
        "\n",
        "%tensorboard --logdir runs/penny"
      ]
    },
    {
      "cell_type": "markdown",
      "metadata": {
        "id": "lRevqpDvWlh1"
      },
      "source": [
        "## Continue training"
      ]
    },
    {
      "cell_type": "code",
      "execution_count": null,
      "metadata": {
        "id": "r_SmY9m9TTj0"
      },
      "outputs": [],
      "source": [
        "# Continue Train\n",
        "!yolo segment train model=runs/penny/weights/last.pt resume=True"
      ]
    },
    {
      "cell_type": "code",
      "execution_count": null,
      "metadata": {
        "id": "oVXvrl-wXIsJ"
      },
      "outputs": [],
      "source": [
        "# See the accuracy\n",
        "%load_ext tensorboard\n",
        "\n",
        "%tensorboard --logdir runs/penny"
      ]
    },
    {
      "cell_type": "markdown",
      "metadata": {
        "id": "5Uvt6uLFXJXr"
      },
      "source": [
        "## Euro Coins Segmentation"
      ]
    },
    {
      "cell_type": "code",
      "execution_count": null,
      "metadata": {
        "id": "KvQxJqdcTTqf"
      },
      "outputs": [],
      "source": [
        "# Function to show Image\n",
        "import matplotlib.pyplot as plt\n",
        "import matplotlib.image as mpimg\n",
        "\n",
        "def showImage(path):\n",
        "  img = mpimg.imread(path)\n",
        "  plt.figure(figsize=(10,10))\n",
        "  plt.axis(\"off\")\n",
        "  plt.imshow(img)\n",
        "  plt.show()"
      ]
    },
    {
      "cell_type": "code",
      "execution_count": null,
      "metadata": {
        "id": "2BCDta-kTTsk",
        "colab": {
          "base_uri": "https://localhost:8080/"
        },
        "outputId": "a42714c5-b93c-4a65-a91b-37539e9601c2"
      },
      "outputs": [
        {
          "output_type": "stream",
          "name": "stdout",
          "text": [
            "Ultralytics YOLOv8.2.7 🚀 Python-3.10.12 torch-2.2.1+cu121 CPU (Intel Xeon 2.20GHz)\n",
            "YOLOv8l-seg summary (fused): 295 layers, 45918056 parameters, 0 gradients, 220.2 GFLOPs\n",
            "\n",
            "image 1/1 /content/gdrive/MyDrive/yolov8-segmentation/inference/penny3.jpg: 640x640 1 1 centime, 2 1 euros, 2 10 centimess, 2 2 centimess, 1 2 euro, 1 20 centimes, 1 5 centimes, 1 50 centimes, 3581.6ms\n",
            "Speed: 5.0ms preprocess, 3581.6ms inference, 1854.1ms postprocess per image at shape (1, 3, 640, 640)\n",
            "Results saved to \u001b[1mruns/segment/predict8\u001b[0m\n",
            "💡 Learn more at https://docs.ultralytics.com/modes/predict\n"
          ]
        }
      ],
      "source": [
        "# Segmentation on the image\n",
        "!yolo segment predict model=runs/penny/weights/best.pt source=\"inference/penny.jpg\" save=True"
      ]
    },
    {
      "cell_type": "code",
      "execution_count": null,
      "metadata": {
        "id": "QVQUB012TTuv"
      },
      "outputs": [],
      "source": [
        "# Show Segmentation Result\n",
        "showImage(\"runs/segment/predict/penny.jpg\")"
      ]
    }
  ],
  "metadata": {
    "colab": {
      "provenance": [],
      "gpuType": "T4"
    },
    "kernelspec": {
      "display_name": "Python 3",
      "name": "python3"
    },
    "language_info": {
      "name": "python"
    },
    "accelerator": "GPU"
  },
  "nbformat": 4,
  "nbformat_minor": 0
}